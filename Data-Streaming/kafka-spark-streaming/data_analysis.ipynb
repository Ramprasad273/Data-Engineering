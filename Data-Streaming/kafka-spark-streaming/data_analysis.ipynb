{
 "cells": [
  {
   "cell_type": "code",
   "execution_count": 1,
   "id": "9c388985-5aef-49a3-938e-02d0e7f8b187",
   "metadata": {},
   "outputs": [],
   "source": [
    "import pandas as pd\n",
    "import pyspark\n",
    "from pyspark.sql import SparkSession\n",
    "from pyspark.sql.types import StructType,StructField, StringType, IntegerType \n",
    "from pyspark.sql.types import ArrayType, DoubleType, BooleanType\n",
    "from pyspark.sql.functions import col,array_contains\n",
    "from pyspark import SparkConf\n",
    "from pyspark.sql.functions import when\n",
    "from pyspark.sql.functions  import date_format,to_date\n",
    "import json"
   ]
  },
  {
   "cell_type": "code",
   "execution_count": 2,
   "id": "77137e25-2fb4-464a-bb68-273002499ebb",
   "metadata": {},
   "outputs": [
    {
     "name": "stdout",
     "output_type": "stream",
     "text": [
      "root\n",
      " |-- Region: string (nullable = true)\n",
      " |-- Country: string (nullable = true)\n",
      " |-- State: string (nullable = true)\n",
      " |-- City: string (nullable = true)\n",
      " |-- Month: string (nullable = true)\n",
      " |-- Day: string (nullable = true)\n",
      " |-- Year: string (nullable = true)\n",
      " |-- AvgTemperature: string (nullable = true)\n",
      "\n"
     ]
    }
   ],
   "source": [
    "spark =SparkSession.builder.appName('data_analysis').getOrCreate()\n",
    "\n",
    "temperature_df = spark.read.option(\"header\",\"True\").csv(\"/Github_repo/Data-Engineering/kafka-spark-streaming/data/city_temperature.csv\")\n",
    "temperature_df.printSchema()\n"
   ]
  },
  {
   "cell_type": "code",
   "execution_count": 3,
   "id": "241f235c",
   "metadata": {},
   "outputs": [],
   "source": [
    "indian_temperature_df = temperature_df.withColumn(\"City\", when(temperature_df.City == \"Bombay (Mumbai)\",\"Mumbai\")\n",
    "                                                  .when(temperature_df.City == \"Chennai (Madras)\",\"Chennai\")\n",
    "                                                  .otherwise(temperature_df.City))"
   ]
  },
  {
   "cell_type": "code",
   "execution_count": 4,
   "id": "2006a1bf",
   "metadata": {},
   "outputs": [],
   "source": [
    "indian_temperature_df= indian_temperature_df.withColumn(\"State\", when(indian_temperature_df.City == \"Mumbai\",\"Maharastra\")\n",
    "            .when(indian_temperature_df.City == \"Chennai\",\"Tamil Nadu\")\n",
    "            .when(indian_temperature_df.City == \"Calcutta\",\"West Bengal\")\n",
    "            .when(indian_temperature_df.City == \"Delhi\",\"New Delhi\")\n",
    "            .otherwise(indian_temperature_df.State))"
   ]
  },
  {
   "cell_type": "code",
   "execution_count": 5,
   "id": "43be64c1-5256-4054-ac7d-049dce8a5053",
   "metadata": {},
   "outputs": [],
   "source": [
    "indian_temperature_df = indian_temperature_df.filter(temperature_df.Country ==\"India\")"
   ]
  },
  {
   "cell_type": "code",
   "execution_count": 6,
   "id": "7ff1142f",
   "metadata": {},
   "outputs": [],
   "source": [
    "indian_temperature_df.write.mode('overwrite').json(\"/Github_repo/Data-Engineering/kafka-spark-streaming/data/indian_city_temperature.json\")"
   ]
  },
  {
   "cell_type": "code",
   "execution_count": null,
   "id": "6db22b11",
   "metadata": {},
   "outputs": [],
   "source": [
    "\n",
    "temperature_df = spark.read.option(\"header\",\"True\").csv(\"/Github_repo/Data-Engineering/kafka-spark-streaming/data/city_temperature.csv\")\n",
    "temperature_df.printSchema()"
   ]
  }
 ],
 "metadata": {
  "kernelspec": {
   "display_name": "Python 3 (ipykernel)",
   "language": "python",
   "name": "python3"
  },
  "language_info": {
   "codemirror_mode": {
    "name": "ipython",
    "version": 3
   },
   "file_extension": ".py",
   "mimetype": "text/x-python",
   "name": "python",
   "nbconvert_exporter": "python",
   "pygments_lexer": "ipython3",
   "version": "3.9.6"
  }
 },
 "nbformat": 4,
 "nbformat_minor": 5
}
