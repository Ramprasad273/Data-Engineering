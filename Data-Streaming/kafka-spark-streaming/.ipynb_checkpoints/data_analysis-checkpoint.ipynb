{
 "cells": [
  {
   "cell_type": "code",
   "execution_count": 7,
   "id": "9c388985-5aef-49a3-938e-02d0e7f8b187",
   "metadata": {},
   "outputs": [],
   "source": [
    "import pandas as pd\n",
    "import pyspark\n",
    "from pyspark.sql import SparkSession\n",
    "from pyspark.sql.types import StructType,StructField, StringType, IntegerType \n",
    "from pyspark.sql.types import ArrayType, DoubleType, BooleanType\n",
    "from pyspark.sql.functions import col,array_contains\n",
    "from pyspark import SparkConf\n",
    "from pyspark.sql.functions import when"
   ]
  },
  {
   "cell_type": "code",
   "execution_count": 13,
   "id": "77137e25-2fb4-464a-bb68-273002499ebb",
   "metadata": {},
   "outputs": [
    {
     "name": "stdout",
     "output_type": "stream",
     "text": [
      "root\n",
      " |-- Region: string (nullable = true)\n",
      " |-- Country: string (nullable = true)\n",
      " |-- State: string (nullable = true)\n",
      " |-- City: string (nullable = true)\n",
      " |-- Month: string (nullable = true)\n",
      " |-- Day: string (nullable = true)\n",
      " |-- Year: string (nullable = true)\n",
      " |-- AvgTemperature: string (nullable = true)\n",
      "\n",
      "+------+-------+-----+-------+-----+---+----+--------------+\n",
      "|Region|Country|State|   City|Month|Day|Year|AvgTemperature|\n",
      "+------+-------+-----+-------+-----+---+----+--------------+\n",
      "|Africa|Algeria| null|Algiers|    1|  1|1995|          64.2|\n",
      "|Africa|Algeria| null|Algiers|    1|  2|1995|          49.4|\n",
      "|Africa|Algeria| null|Algiers|    1|  3|1995|          48.8|\n",
      "|Africa|Algeria| null|Algiers|    1|  4|1995|          46.4|\n",
      "|Africa|Algeria| null|Algiers|    1|  5|1995|          47.9|\n",
      "|Africa|Algeria| null|Algiers|    1|  6|1995|          48.7|\n",
      "|Africa|Algeria| null|Algiers|    1|  7|1995|          48.9|\n",
      "|Africa|Algeria| null|Algiers|    1|  8|1995|          49.1|\n",
      "|Africa|Algeria| null|Algiers|    1|  9|1995|          49.0|\n",
      "|Africa|Algeria| null|Algiers|    1| 10|1995|          51.9|\n",
      "|Africa|Algeria| null|Algiers|    1| 11|1995|          51.7|\n",
      "|Africa|Algeria| null|Algiers|    1| 12|1995|          51.3|\n",
      "|Africa|Algeria| null|Algiers|    1| 13|1995|          47.0|\n",
      "|Africa|Algeria| null|Algiers|    1| 14|1995|          46.9|\n",
      "|Africa|Algeria| null|Algiers|    1| 15|1995|          47.5|\n",
      "|Africa|Algeria| null|Algiers|    1| 16|1995|          45.9|\n",
      "|Africa|Algeria| null|Algiers|    1| 17|1995|          44.5|\n",
      "|Africa|Algeria| null|Algiers|    1| 18|1995|          50.7|\n",
      "|Africa|Algeria| null|Algiers|    1| 19|1995|          54.0|\n",
      "|Africa|Algeria| null|Algiers|    1| 20|1995|          52.6|\n",
      "+------+-------+-----+-------+-----+---+----+--------------+\n",
      "only showing top 20 rows\n",
      "\n"
     ]
    }
   ],
   "source": [
    "spark = SparkSession.builder.appName('data_analysis').getOrCreate()\n",
    "\n",
    "temperature_df = spark.read.option(\"header\",\"True\").csv(\"/Github_repo/Data-Engineering/kafka-spark-streaming/data/city_temperature.csv\")\n",
    "temperature_df.printSchema()\n",
    "temperature_df.show()\n"
   ]
  },
  {
   "cell_type": "code",
   "execution_count": 16,
   "id": "9eb7a9cf",
   "metadata": {},
   "outputs": [
    {
     "name": "stdout",
     "output_type": "stream",
     "text": [
      "+------+-------+-----+-------+-----+---+----+--------------+\n",
      "|Region|Country|State|   City|Month|Day|Year|AvgTemperature|\n",
      "+------+-------+-----+-------+-----+---+----+--------------+\n",
      "|Africa|Algeria| null|Algiers|    1|  1|1995|          64.2|\n",
      "|Africa|Algeria| null|Algiers|    1|  2|1995|          49.4|\n",
      "|Africa|Algeria| null|Algiers|    1|  3|1995|          48.8|\n",
      "|Africa|Algeria| null|Algiers|    1|  4|1995|          46.4|\n",
      "|Africa|Algeria| null|Algiers|    1|  5|1995|          47.9|\n",
      "|Africa|Algeria| null|Algiers|    1|  6|1995|          48.7|\n",
      "|Africa|Algeria| null|Algiers|    1|  7|1995|          48.9|\n",
      "|Africa|Algeria| null|Algiers|    1|  8|1995|          49.1|\n",
      "|Africa|Algeria| null|Algiers|    1|  9|1995|          49.0|\n",
      "|Africa|Algeria| null|Algiers|    1| 10|1995|          51.9|\n",
      "|Africa|Algeria| null|Algiers|    1| 11|1995|          51.7|\n",
      "|Africa|Algeria| null|Algiers|    1| 12|1995|          51.3|\n",
      "|Africa|Algeria| null|Algiers|    1| 13|1995|          47.0|\n",
      "|Africa|Algeria| null|Algiers|    1| 14|1995|          46.9|\n",
      "|Africa|Algeria| null|Algiers|    1| 15|1995|          47.5|\n",
      "|Africa|Algeria| null|Algiers|    1| 16|1995|          45.9|\n",
      "|Africa|Algeria| null|Algiers|    1| 17|1995|          44.5|\n",
      "|Africa|Algeria| null|Algiers|    1| 18|1995|          50.7|\n",
      "|Africa|Algeria| null|Algiers|    1| 19|1995|          54.0|\n",
      "|Africa|Algeria| null|Algiers|    1| 20|1995|          52.6|\n",
      "+------+-------+-----+-------+-----+---+----+--------------+\n",
      "only showing top 20 rows\n",
      "\n"
     ]
    }
   ],
   "source": [
    "indian_temperature_df = temperature_df.withColumn(\"City\", when(temperature_df.City == \"Bombay (Mumbai)\",\"Mumbai\") \\\n",
    "      .when(temperature_df.City == \"Chennai (Madras)\",\"Chennai\") \\\n",
    "      .otherwise(temperature_df.City))\n",
    "indian_temperature_df.show()"
   ]
  },
  {
   "cell_type": "code",
   "execution_count": 18,
   "id": "43be64c1-5256-4054-ac7d-049dce8a5053",
   "metadata": {},
   "outputs": [
    {
     "name": "stdout",
     "output_type": "stream",
     "text": [
      "+------+-------+-----+------+-----+---+----+--------------+\n",
      "|Region|Country|State|City  |Month|Day|Year|AvgTemperature|\n",
      "+------+-------+-----+------+-----+---+----+--------------+\n",
      "|Asia  |India  |null |Mumbai|1    |1  |1995|71.8          |\n",
      "|Asia  |India  |null |Mumbai|1    |2  |1995|72.0          |\n",
      "|Asia  |India  |null |Mumbai|1    |3  |1995|70.3          |\n",
      "|Asia  |India  |null |Mumbai|1    |4  |1995|69.7          |\n",
      "|Asia  |India  |null |Mumbai|1    |5  |1995|71.3          |\n",
      "|Asia  |India  |null |Mumbai|1    |6  |1995|73.9          |\n",
      "|Asia  |India  |null |Mumbai|1    |7  |1995|72.9          |\n",
      "|Asia  |India  |null |Mumbai|1    |8  |1995|70.2          |\n",
      "|Asia  |India  |null |Mumbai|1    |9  |1995|68.4          |\n",
      "|Asia  |India  |null |Mumbai|1    |10 |1995|68.0          |\n",
      "|Asia  |India  |null |Mumbai|1    |11 |1995|69.9          |\n",
      "|Asia  |India  |null |Mumbai|1    |12 |1995|69.8          |\n",
      "|Asia  |India  |null |Mumbai|1    |13 |1995|71.0          |\n",
      "|Asia  |India  |null |Mumbai|1    |14 |1995|73.9          |\n",
      "|Asia  |India  |null |Mumbai|1    |15 |1995|73.4          |\n",
      "|Asia  |India  |null |Mumbai|1    |16 |1995|70.4          |\n",
      "|Asia  |India  |null |Mumbai|1    |17 |1995|74.9          |\n",
      "|Asia  |India  |null |Mumbai|1    |18 |1995|74.5          |\n",
      "|Asia  |India  |null |Mumbai|1    |19 |1995|73.0          |\n",
      "|Asia  |India  |null |Mumbai|1    |20 |1995|71.9          |\n",
      "+------+-------+-----+------+-----+---+----+--------------+\n",
      "only showing top 20 rows\n",
      "\n"
     ]
    }
   ],
   "source": [
    "temperature_df1 = indian_temperature_df.filter(temperature_df.Country ==\"India\").show(truncate=False)"
   ]
  },
  {
   "cell_type": "code",
   "execution_count": null,
   "id": "69ac335f",
   "metadata": {},
   "outputs": [],
   "source": [
    "temperature_df1.withColumn(\"State\", when(temperature_df1.City == \"Bombay (Mumbai)\",\"Maharastra\") \\\n",
    "      .when(temperature_df1.City == \"Chennai (Madras)\",\"Tamil Nadu\") \\\n",
    "      .when(temperature_df1.City == \"Calcutta\",\"West Bengal\") \\\n",
    "      .when(temperature_df1.City == \"Delhi\",\"New Delhi\") \\\n",
    "      .otherwise(temperature_df1.City))\n",
    "temperature_df1.show()"
   ]
  },
  {
   "cell_type": "code",
   "execution_count": null,
   "id": "44288e31",
   "metadata": {},
   "outputs": [],
   "source": []
  }
 ],
 "metadata": {
  "kernelspec": {
   "display_name": "Python 3 (ipykernel)",
   "language": "python",
   "name": "python3"
  },
  "language_info": {
   "codemirror_mode": {
    "name": "ipython",
    "version": 3
   },
   "file_extension": ".py",
   "mimetype": "text/x-python",
   "name": "python",
   "nbconvert_exporter": "python",
   "pygments_lexer": "ipython3",
   "version": "3.9.6"
  }
 },
 "nbformat": 4,
 "nbformat_minor": 5
}
